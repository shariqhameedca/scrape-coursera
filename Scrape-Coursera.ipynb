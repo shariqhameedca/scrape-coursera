{
 "cells": [
  {
   "cell_type": "code",
   "execution_count": 416,
   "id": "cbf427f2",
   "metadata": {},
   "outputs": [],
   "source": [
    "import requests\n",
    "from bs4 import BeautifulSoup\n",
    "import pandas as pd\n",
    "import numpy as np"
   ]
  },
  {
   "cell_type": "code",
   "execution_count": 490,
   "id": "d1782c32",
   "metadata": {},
   "outputs": [],
   "source": [
    "def extract(url):\n",
    "    \"\"\"\n",
    "        This function takes a Coursera certificates url and calls the to_pandas()\n",
    "        on every certificate in the link\n",
    "    \"\"\"\n",
    "    \n",
    "    r = requests.get(url)\n",
    "    soup = BeautifulSoup(r.text)\n",
    "    \n",
    "    main_frame = soup.find(\"main\")\n",
    "    \n",
    "    certificates = main_frame.find(\"ul\", {\"id\": ['professional-certificates']}).find_all(\"li\")\n",
    "    \n",
    "    certificates_df = get_certificates(certificates)\n",
    "    courses_df = get_courses(certificates_df.head(5))\n",
    "    return certificates_df, courses_df\n",
    "    "
   ]
  },
  {
   "cell_type": "code",
   "execution_count": 491,
   "id": "1f928e54",
   "metadata": {},
   "outputs": [],
   "source": [
    "def get_certificates(certificates_frame):\n",
    "    \"\"\"\n",
    "        This function receives a list of certificates and it scrapes details from\n",
    "        every certificate and makes a pandas dataframe.\n",
    "    \"\"\"\n",
    "    \n",
    "    df = pd.DataFrame(columns=[\"Name\", \"Offered by\", \"Duration\", \"Course Link\"])\n",
    "    for certificate in certificates_frame:\n",
    "        details = certificate.find_all(\"p\")\n",
    "        name = details[0].string\n",
    "        offered_by = details[1].string[11:]\n",
    "        duration = details[2].string\n",
    "        link = certificate.find(\"a\").attrs[\"href\"]\n",
    "        certificate_dict = {\"Name\": name, \"Offered by\": offered_by, \"Duration\": duration, \"Course Link\": link}\n",
    "        df = df.append(certificate_dict, ignore_index=True)\n",
    "    \n",
    "    return df"
   ]
  },
  {
   "cell_type": "code",
   "execution_count": 476,
   "id": "3d79aa8e",
   "metadata": {},
   "outputs": [],
   "source": [
    "def get_courses(extracted_certificates):\n",
    "    from selenium import webdriver\n",
    "    from selenium.webdriver.common.by import By\n",
    "\n",
    "    courses_dataframe = pd.DataFrame(columns=[\"Name\", \"Rating\", \"Number of ratings\", \"Description\", \"Course Link\", \"Certification\"]) # It will also have a specialization column \n",
    "    for i in range(extracted_certificates.shape[0]):\n",
    "        base_url = \"https://www.coursera.org\"\n",
    "        url = base_url + extracted_certificates.iloc[i][\"Course Link\"]\n",
    "        \n",
    "        # Block images via ChromeOptions object\n",
    "        chrome_options = webdriver.ChromeOptions()\n",
    "        prefs = {\"profile.managed_default_content_settings.images\": 2}\n",
    "        chrome_options.add_experimental_option(\"prefs\", prefs)\n",
    "        chrome_options.add_argument('--headless')\n",
    "\n",
    "        driver = webdriver.Chrome(options=chrome_options)\n",
    "        driver.get(url)\n",
    "        \n",
    "        try:\n",
    "            button = driver.find_element(By.CLASS_NAME, '_3hmsj').find_element(By.CLASS_NAME, \"_l3lqkfz\")\n",
    "            button.click()\n",
    "        except:\n",
    "            pass\n",
    "        \n",
    "        text = driver.page_source\n",
    "        soup = BeautifulSoup(text, 'html.parser')\n",
    "        certificate_name = extracted_certificates.iloc[i][\"Name\"]\n",
    "        certificate_courses = courses_details(soup, certificate_name)\n",
    "        \n",
    "        courses_dataframe = courses_dataframe.append(certificate_courses, ignore_index=True)\n",
    "        driver.quit()\n",
    "        \n",
    "    return courses_dataframe"
   ]
  },
  {
   "cell_type": "code",
   "execution_count": 473,
   "id": "ee61977a",
   "metadata": {},
   "outputs": [],
   "source": [
    "def courses_details(certification, certification_name):\n",
    "    courses = certification.find_all(\"div\", {\"class\": [\"CourseItem\"]})\n",
    "    \n",
    "    certificate_courses_df = pd.DataFrame(columns=[\"Name\", \"Rating\", \"Number of ratings\", \"Description\", \"Course Link\", \"Certification\"])\n",
    "    for course in courses:\n",
    "        name = course.find(\"h3\").string\n",
    "        try:\n",
    "            rating = course.find(\n",
    "            \"span\", {\"class\": ['rating-text']}).findChildren(text=True)[0]\n",
    "        except:\n",
    "            rating = None\n",
    "        number_of_ratings = course.find(\n",
    "            \"span\", {\"class\": ['rating-text']}).nextSibling()[0].text\n",
    "        description = course.find(\"p\").string\n",
    "        course_link = course.find(\"a\", {\"data-e2e\": \"course-link\"}).attrs[\"href\"]\n",
    "        course_dict = {\n",
    "            \"Name\": name, \n",
    "            \"Rating\": rating, \n",
    "            \"Number of ratings\": number_of_ratings, \n",
    "            \"Description\": description, \n",
    "            \"Course Link\": course_link,\n",
    "            \"Certification\": certification_name}\n",
    "        \n",
    "        certificate_courses_df = certificate_courses_df.append(course_dict, ignore_index=True)\n",
    "        \n",
    "    return certificate_courses_df"
   ]
  },
  {
   "cell_type": "code",
   "execution_count": 529,
   "id": "e828bbae",
   "metadata": {},
   "outputs": [],
   "source": [
    "def transform_certificates(extracted_certificates):\n",
    "    # Extracting Months and required hours from duration\n",
    "    extracted_certificates[\"Duration (Months)\"] = extracted_certificates[\"Duration\"].str.split(\" \").apply(\n",
    "    lambda x: x[0] if x!=None else None)\n",
    "    extracted_certificates[\"Required effort (Hours)\"] = extracted_certificates[\"Duration\"].str.split(\" \").apply(\n",
    "    lambda x: x[x.index('hours')-1] if x!=None else None)\n",
    "    # Dropping the Duration column\n",
    "    del extracted_certificates[\"Duration\"]\n",
    "    \n",
    "    # Changing the course links\n",
    "    base_url = \"https://www.coursera.org\"\n",
    "    extracted_certificates[\"Course Link\"] = base_url + extracted_certificates[\"Course Link\"] \n",
    "    \n",
    "    return extracted_certificates"
   ]
  },
  {
   "cell_type": "code",
   "execution_count": 503,
   "id": "f5aa3114",
   "metadata": {},
   "outputs": [],
   "source": [
    "def transform_courses(extracted_courses):\n",
    "    try:\n",
    "        extracted_courses[\"Number of ratings\"] = extracted_courses[\"Number of ratings\"].str.split(\" \").apply(\n",
    "        lambda x: x[0])\n",
    "    except:\n",
    "        pass\n",
    "    \n",
    "    return extracted_courses"
   ]
  },
  {
   "cell_type": "code",
   "execution_count": 498,
   "id": "56367175",
   "metadata": {},
   "outputs": [],
   "source": [
    "def transform(extracted_certificates, extracted_courses):\n",
    "    \"\"\"\n",
    "        This function takes the extracted pandas dataframe and transforms it\n",
    "    \"\"\"\n",
    "    transformed_certificates = transform_certificates(extracted_certificates)\n",
    "    transformed_courses = transform_courses(extracted_courses)\n",
    "    \n",
    "    return transformed_certificates, transformed_courses"
   ]
  },
  {
   "cell_type": "code",
   "execution_count": 470,
   "id": "138ec29c",
   "metadata": {},
   "outputs": [],
   "source": [
    "def load(data, target):\n",
    "    data.to_csv(target, index=False)"
   ]
  },
  {
   "cell_type": "code",
   "execution_count": 471,
   "id": "94ac7bb1",
   "metadata": {},
   "outputs": [],
   "source": [
    "from datetime import datetime\n",
    "\n",
    "def log(message):\n",
    "    timestamp_format = \"%Y-%h-%d-%H:%M:%S\"\n",
    "    now = datetime.now()\n",
    "    timestamp = now.strftime(timestamp_format)\n",
    "    \n",
    "    with open(\"logs.txt\", \"a\") as file:\n",
    "        file.write(message + \" at \" + timestamp + \"\\n\") "
   ]
  },
  {
   "cell_type": "markdown",
   "id": "401e1227",
   "metadata": {},
   "source": [
    "# ETL Process"
   ]
  },
  {
   "cell_type": "code",
   "execution_count": 533,
   "id": "43738748",
   "metadata": {},
   "outputs": [
    {
     "name": "stdout",
     "output_type": "stream",
     "text": [
      "0:01:30.082502\n"
     ]
    }
   ],
   "source": [
    "log(\"ETL Process started\")\n",
    "\n",
    "before = datetime.now()\n",
    "log(\"Extract phase started\")\n",
    "extracted_certificates, extracted_courses = extract('https://www.coursera.org/certificates/advance-your-career#professional-certificates')\n",
    "log(\"Extract phase ended\")\n",
    "after = datetime.now()\n",
    "\n",
    "print(after-before)\n",
    "\n",
    "log(\"Transform phase started\")\n",
    "transformed_certificates, transformed_courses = transform(extracted_certificates, extracted_courses)\n",
    "log(\"Transform phase ended\")\n",
    "\n",
    "log(\"Load phase started\")\n",
    "load(transformed_certificates, \"professional_certificates.csv\")\n",
    "load(transformed_courses, \"courses.csv\")\n",
    "log(\"load phase ended\")"
   ]
  },
  {
   "cell_type": "code",
   "execution_count": null,
   "id": "ec3e628d",
   "metadata": {},
   "outputs": [],
   "source": []
  }
 ],
 "metadata": {
  "kernelspec": {
   "display_name": "Python 3",
   "language": "python",
   "name": "python3"
  },
  "language_info": {
   "codemirror_mode": {
    "name": "ipython",
    "version": 3
   },
   "file_extension": ".py",
   "mimetype": "text/x-python",
   "name": "python",
   "nbconvert_exporter": "python",
   "pygments_lexer": "ipython3",
   "version": "3.8.8"
  }
 },
 "nbformat": 4,
 "nbformat_minor": 5
}
